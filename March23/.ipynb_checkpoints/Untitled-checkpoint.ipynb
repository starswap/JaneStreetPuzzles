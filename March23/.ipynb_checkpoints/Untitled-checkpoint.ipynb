{
 "cells": [
  {
   "cell_type": "code",
   "execution_count": 1,
   "id": "d016acba",
   "metadata": {},
   "outputs": [],
   "source": [
    "import random\n",
    "import matplotlib.pyplot as plt"
   ]
  },
  {
   "cell_type": "code",
   "execution_count": 11,
   "id": "61a0d6af",
   "metadata": {},
   "outputs": [],
   "source": [
    "N_TRIES = 1000000\n",
    "D_THRESHOLD = 0.001\n",
    "D_MIN = 0\n",
    "D_MAX = 1\n",
    "EPS = 0.0000000000000001"
   ]
  },
  {
   "cell_type": "code",
   "execution_count": 3,
   "id": "918775dc",
   "metadata": {},
   "outputs": [],
   "source": [
    "def jump_old(curr):\n",
    "    # Foul jump\n",
    "    if curr > 1:\n",
    "        return 0\n",
    "    \n",
    "    # Jump\n",
    "    curr += random.uniform(0,1)\n",
    "    \n",
    "    # Bonus Jump\n",
    "    if curr < 1:\n",
    "        return curr + random.uniform(0,1)\n",
    "    else:\n",
    "        return curr\n",
    "    \n",
    "def jump2(curr):\n",
    "#     print(f\"a {curr}\")\n",
    "    # Foul jump\n",
    "    if curr > 1:\n",
    "        return 0\n",
    "    \n",
    "    # Jump\n",
    "#     n = random.uniform(0, 1)\n",
    "#     print(f\"b {curr + n}\")\n",
    "    if (random.uniform(0, 1) < 1 - curr): # (curr + n < 1):\n",
    "#         print(\"hop\")\n",
    "        return curr + random.uniform(0, 1 - curr) + random.uniform(0, 1)\n",
    "    else:\n",
    "        return curr + random.uniform(1 - curr, 1)\n",
    "\n",
    "def jump(curr):\n",
    "    if curr > 1:\n",
    "        return 0\n",
    "    else:\n",
    "        return curr + random.SystemRandom().random()    \n",
    "    \n",
    "def score(jump_threshold):\n",
    "    return score_start(0, jump_threshold)\n",
    "\n",
    "def score_start(curr, jump_threshold):\n",
    "    # Speed down the runway\n",
    "    while curr < jump_threshold:\n",
    "        curr +=  random.SystemRandom().random()\n",
    "#     print(curr, jump_threshold, jump(curr))\n",
    "    return jump(curr)\n",
    "    \n",
    "def get_avg(jump_threshold, n):\n",
    "    total = 0\n",
    "    for i in range(n):\n",
    "        total += score(jump_threshold)\n",
    "    return total / n"
   ]
  },
  {
   "cell_type": "code",
   "execution_count": 12,
   "id": "e66ed49a",
   "metadata": {},
   "outputs": [
    {
     "data": {
      "text/plain": [
       "[<matplotlib.lines.Line2D at 0x1d30809b550>]"
      ]
     },
     "execution_count": 12,
     "metadata": {},
     "output_type": "execute_result"
    },
    {
     "data": {
      "image/png": "[encoded data removed]",
      "text/plain": [
       "<Figure size 432x288 with 1 Axes>"
      ]
     },
     "metadata": {
      "needs_background": "light"
     },
     "output_type": "display_data"
    }
   ],
   "source": [
    "# Visualise\n",
    "\n",
    "scores = []\n",
    "jump_threshold = D_MIN\n",
    "\n",
    "while jump_threshold < D_MAX:\n",
    "    scores.append((jump_threshold, new_method(jump_threshold)))\n",
    "    jump_threshold += D_THRESHOLD\n",
    "\n",
    "plt.plot(list(map(lambda p : p[0], scores)), list(map(lambda p: p[1], scores)))"
   ]
  },
  {
   "cell_type": "code",
   "execution_count": 130,
   "id": "456897f5",
   "metadata": {},
   "outputs": [
    {
     "ename": "KeyboardInterrupt",
     "evalue": "",
     "output_type": "error",
     "traceback": [
      "\u001b[1;31m---------------------------------------------------------------------------\u001b[0m",
      "\u001b[1;31mKeyboardInterrupt\u001b[0m                         Traceback (most recent call last)",
      "Input \u001b[1;32mIn [130]\u001b[0m, in \u001b[0;36m<cell line: 4>\u001b[1;34m()\u001b[0m\n\u001b[0;32m      5\u001b[0m ml \u001b[38;5;241m=\u001b[39m (lo \u001b[38;5;241m+\u001b[39m \u001b[38;5;241m1\u001b[39m \u001b[38;5;241m*\u001b[39m (hi \u001b[38;5;241m-\u001b[39m lo) \u001b[38;5;241m/\u001b[39m \u001b[38;5;241m3\u001b[39m)\n\u001b[0;32m      6\u001b[0m mh \u001b[38;5;241m=\u001b[39m (lo \u001b[38;5;241m+\u001b[39m \u001b[38;5;241m2\u001b[39m \u001b[38;5;241m*\u001b[39m (hi \u001b[38;5;241m-\u001b[39m lo) \u001b[38;5;241m/\u001b[39m \u001b[38;5;241m3\u001b[39m)\n\u001b[1;32m----> 8\u001b[0m fl \u001b[38;5;241m=\u001b[39m \u001b[43mget_avg\u001b[49m\u001b[43m(\u001b[49m\u001b[43mml\u001b[49m\u001b[43m,\u001b[49m\u001b[43m \u001b[49m\u001b[43mN_TRIES\u001b[49m\u001b[43m)\u001b[49m\n\u001b[0;32m      9\u001b[0m fh \u001b[38;5;241m=\u001b[39m get_avg(mh, N_TRIES)\n\u001b[0;32m     10\u001b[0m \u001b[38;5;28;01mif\u001b[39;00m (fl \u001b[38;5;241m<\u001b[39m fh):\n",
      "Input \u001b[1;32mIn [128]\u001b[0m, in \u001b[0;36mget_avg\u001b[1;34m(jump_threshold, n)\u001b[0m\n\u001b[0;32m     42\u001b[0m total \u001b[38;5;241m=\u001b[39m \u001b[38;5;241m0\u001b[39m\n\u001b[0;32m     43\u001b[0m \u001b[38;5;28;01mfor\u001b[39;00m i \u001b[38;5;129;01min\u001b[39;00m \u001b[38;5;28mrange\u001b[39m(n):\n\u001b[1;32m---> 44\u001b[0m     total \u001b[38;5;241m+\u001b[39m\u001b[38;5;241m=\u001b[39m \u001b[43mscore\u001b[49m\u001b[43m(\u001b[49m\u001b[43mjump_threshold\u001b[49m\u001b[43m)\u001b[49m\n\u001b[0;32m     45\u001b[0m \u001b[38;5;28;01mreturn\u001b[39;00m total \u001b[38;5;241m/\u001b[39m n\n",
      "Input \u001b[1;32mIn [128]\u001b[0m, in \u001b[0;36mscore\u001b[1;34m(jump_threshold)\u001b[0m\n\u001b[0;32m     31\u001b[0m \u001b[38;5;28;01mdef\u001b[39;00m \u001b[38;5;21mscore\u001b[39m(jump_threshold):\n\u001b[1;32m---> 32\u001b[0m     \u001b[38;5;28;01mreturn\u001b[39;00m \u001b[43mscore_start\u001b[49m\u001b[43m(\u001b[49m\u001b[38;5;241;43m0\u001b[39;49m\u001b[43m,\u001b[49m\u001b[43m \u001b[49m\u001b[43mjump_threshold\u001b[49m\u001b[43m)\u001b[49m\n",
      "Input \u001b[1;32mIn [128]\u001b[0m, in \u001b[0;36mscore_start\u001b[1;34m(curr, jump_threshold)\u001b[0m\n\u001b[0;32m     36\u001b[0m \u001b[38;5;28;01mwhile\u001b[39;00m curr \u001b[38;5;241m<\u001b[39m jump_threshold:        \n\u001b[0;32m     37\u001b[0m     curr \u001b[38;5;241m+\u001b[39m\u001b[38;5;241m=\u001b[39m random\u001b[38;5;241m.\u001b[39muniform(\u001b[38;5;241m0\u001b[39m, \u001b[38;5;241m1\u001b[39m)\n\u001b[1;32m---> 39\u001b[0m \u001b[38;5;28;01mreturn\u001b[39;00m \u001b[43mjump\u001b[49m\u001b[43m(\u001b[49m\u001b[43mcurr\u001b[49m\u001b[43m)\u001b[49m\n",
      "Input \u001b[1;32mIn [128]\u001b[0m, in \u001b[0;36mjump\u001b[1;34m(curr)\u001b[0m\n\u001b[0;32m     26\u001b[0m     \u001b[38;5;28;01mreturn\u001b[39;00m curr \u001b[38;5;241m+\u001b[39m random\u001b[38;5;241m.\u001b[39muniform(\u001b[38;5;241m0\u001b[39m, \u001b[38;5;241m1\u001b[39m \u001b[38;5;241m-\u001b[39m curr) \u001b[38;5;241m+\u001b[39m random\u001b[38;5;241m.\u001b[39muniform(\u001b[38;5;241m0\u001b[39m,\u001b[38;5;241m1\u001b[39m)\n\u001b[0;32m     27\u001b[0m \u001b[38;5;28;01melse\u001b[39;00m:\n\u001b[1;32m---> 28\u001b[0m     \u001b[38;5;28;01mreturn\u001b[39;00m curr \u001b[38;5;241m+\u001b[39m \u001b[43mrandom\u001b[49m\u001b[38;5;241;43m.\u001b[39;49m\u001b[43muniform\u001b[49m\u001b[43m(\u001b[49m\u001b[38;5;241;43m1\u001b[39;49m\u001b[43m \u001b[49m\u001b[38;5;241;43m-\u001b[39;49m\u001b[43m \u001b[49m\u001b[43mcurr\u001b[49m\u001b[43m,\u001b[49m\u001b[43m \u001b[49m\u001b[38;5;241;43m1\u001b[39;49m\u001b[43m)\u001b[49m\n",
      "File \u001b[1;32m~\\anaconda3\\lib\\random.py:511\u001b[0m, in \u001b[0;36mRandom.uniform\u001b[1;34m(self, a, b)\u001b[0m\n\u001b[0;32m    505\u001b[0m     \u001b[38;5;28;01mreturn\u001b[39;00m [population[bisect(cum_weights, random() \u001b[38;5;241m*\u001b[39m total, \u001b[38;5;241m0\u001b[39m, hi)]\n\u001b[0;32m    506\u001b[0m             \u001b[38;5;28;01mfor\u001b[39;00m i \u001b[38;5;129;01min\u001b[39;00m _repeat(\u001b[38;5;28;01mNone\u001b[39;00m, k)]\n\u001b[0;32m    509\u001b[0m \u001b[38;5;66;03m## -------------------- real-valued distributions  -------------------\u001b[39;00m\n\u001b[1;32m--> 511\u001b[0m \u001b[38;5;28;01mdef\u001b[39;00m \u001b[38;5;21muniform\u001b[39m(\u001b[38;5;28mself\u001b[39m, a, b):\n\u001b[0;32m    512\u001b[0m     \u001b[38;5;124m\"\u001b[39m\u001b[38;5;124mGet a random number in the range [a, b) or [a, b] depending on rounding.\u001b[39m\u001b[38;5;124m\"\u001b[39m\n\u001b[0;32m    513\u001b[0m     \u001b[38;5;28;01mreturn\u001b[39;00m a \u001b[38;5;241m+\u001b[39m (b \u001b[38;5;241m-\u001b[39m a) \u001b[38;5;241m*\u001b[39m \u001b[38;5;28mself\u001b[39m\u001b[38;5;241m.\u001b[39mrandom()\n",
      "\u001b[1;31mKeyboardInterrupt\u001b[0m: "
     ]
    }
   ],
   "source": [
    "# Ternary Search\n",
    "lo = 0\n",
    "hi = 1\n",
    "while hi - lo > EPS:\n",
    "    ml = (lo + 1 * (hi - lo) / 3)\n",
    "    mh = (lo + 2 * (hi - lo) / 3)\n",
    "    \n",
    "    fl = get_avg(ml, N_TRIES)\n",
    "    fh = get_avg(mh, N_TRIES)\n",
    "    if (fl < fh):\n",
    "        lo = ml\n",
    "    else:\n",
    "        hi = mh\n",
    "\n",
    "print((hi + lo) / 2)"
   ]
  },
  {
   "cell_type": "code",
   "execution_count": 5,
   "id": "83966d26",
   "metadata": {},
   "outputs": [
    {
     "name": "stdout",
     "output_type": "stream",
     "text": [
      "0.9005795168015517\n"
     ]
    }
   ],
   "source": [
    "def jump_avg(d, n):\n",
    "    tot = 0\n",
    "    for i in range(n):\n",
    "        tot += jump(d)\n",
    "    return tot / n\n",
    "    \n",
    "d = 0.4\n",
    "print(jump_avg(d, N_TRIES))"
   ]
  },
  {
   "cell_type": "code",
   "execution_count": 7,
   "id": "f00652da",
   "metadata": {},
   "outputs": [
    {
     "name": "stdout",
     "output_type": "stream",
     "text": [
      "1.0741137823017148\n"
     ]
    }
   ],
   "source": [
    "def score_start_avg(d, t, n):\n",
    "    tot = 0\n",
    "    for i in range(n):\n",
    "        tot += score_start(d, t)\n",
    "    return tot / n\n",
    "\n",
    "def suppose(d, t):\n",
    "#     print(d, t)\n",
    "    if (abs(t - d) < EPS):\n",
    "        return (1 - t) * (1 + t / 2) # - I think it doesn't matter really what you return here since it gets multiplied down so much\n",
    "    return (t - d) * suppose(t / 2 + d / 2, t) + (1 - t) * (1 + t / 2)\n",
    "    \n",
    "\n",
    "def new_method(t):\n",
    "    c = 1 - t * t / 2 - t / 2\n",
    "    ans = c\n",
    "    acc = 1\n",
    "    for i in range(1, 100):\n",
    "        acc /= i\n",
    "        contrib = c * acc * t ** i\n",
    "        ans += contrib\n",
    "#         if (contrib < EPS):\n",
    "#             break\n",
    "    \n",
    "    return ans\n",
    "    \n",
    "t = 0.4\n",
    "\n",
    "print(new_method(t))\n"
   ]
  },
  {
   "cell_type": "code",
   "execution_count": 8,
   "id": "5b690ee1",
   "metadata": {},
   "outputs": [
    {
     "name": "stdout",
     "output_type": "stream",
     "text": [
      "0.30277562761074456\n",
      "0.3027756276107445\n",
      "0.3027756276107445\n"
     ]
    }
   ],
   "source": [
    "# Ternary Search\n",
    "lo = 0\n",
    "hi = 1\n",
    "while hi - lo > EPS:\n",
    "    ml = (lo + 1 * (hi - lo) / 3)\n",
    "    mh = (lo + 2 * (hi - lo) / 3)\n",
    "    \n",
    "    fl = new_method(ml) # score_start_avg(0, ml, 10000)\n",
    "    fh = new_method(mh) # score_start_avg(0, mh, 10000)\n",
    "    if (fl < fh):\n",
    "        lo = ml\n",
    "    else:\n",
    "        hi = mh\n",
    "t = (hi + lo) / 2\n",
    "print(hi)\n",
    "print(lo)\n",
    "print(t)\n",
    "# print(suppose(0, lo - 0.000000001))\n",
    "# print(suppose(0, (hi + lo) / 2))\n",
    "# print(suppose(0, lo + 0.000000001))"
   ]
  },
  {
   "cell_type": "code",
   "execution_count": 15,
   "id": "8fd537a1",
   "metadata": {},
   "outputs": [
    {
     "name": "stdout",
     "output_type": "stream",
     "text": [
      "1.069349431443112\n",
      "1.06935262926744\n",
      "1.0693558267692609\n",
      "1.06935262926744\n"
     ]
    }
   ],
   "source": [
    "t = 0.3027756276107445\n",
    "\n",
    "print(new_method(t + 0.00001))\n",
    "print(new_method(t))\n",
    "print(new_method(t - 0.00001))\n",
    "\n",
    "print(new_method(0.416195355))\n"
   ]
  },
  {
   "cell_type": "code",
   "execution_count": 95,
   "id": "1df04a84",
   "metadata": {},
   "outputs": [
    {
     "name": "stdout",
     "output_type": "stream",
     "text": [
      "0.3027756276107445\n",
      "0.05622961703410467\n",
      "0.056229617\n"
     ]
    }
   ],
   "source": [
    "# t = 0.2984906425836722 # both by randomness: 0.2954622833956859 # 0.2938507447112845\n",
    "print(t)\n",
    "ANS_EPS = 0.00000000000001\n",
    "n_bang = 1\n",
    "ans = 0\n",
    "for i in range(100):\n",
    "    d = (1 - t)* (t**i)/n_bang\n",
    "    if d < ANS_EPS:\n",
    "#         print(d)\n",
    "        break\n",
    "    ans += d\n",
    "#     print(f\"(1 - t) * t**{i}/{n_bang}\")\n",
    "    n_bang *= i + 1\n",
    "\n",
    "print(1 - ans)\n",
    "print(round(1 - ans, 9))\n",
    "# 0.056229617034103785\n"
   ]
  },
  {
   "cell_type": "code",
   "execution_count": 14,
   "id": "8e4170f8",
   "metadata": {},
   "outputs": [
    {
     "name": "stdout",
     "output_type": "stream",
     "text": [
      "0.11285\n"
     ]
    }
   ],
   "source": [
    "count = 0\n",
    "t = 0.416195355\n",
    "for i in range(100000):\n",
    "    if (score(t) == 0):\n",
    "        count += 1\n",
    "print(count / 100000)\n",
    "    "
   ]
  },
  {
   "cell_type": "code",
   "execution_count": null,
   "id": "1cc6e962",
   "metadata": {},
   "outputs": [],
   "source": []
  },
  {
   "cell_type": "code",
   "execution_count": null,
   "id": "d620ea48",
   "metadata": {},
   "outputs": [],
   "source": [
    "t = 0.29\n",
    "d = 0\n"
   ]
  }
 ],
 "metadata": {
  "kernelspec": {
   "display_name": "Python 3 (ipykernel)",
   "language": "python",
   "name": "python3"
  },
  "language_info": {
   "codemirror_mode": {
    "name": "ipython",
    "version": 3
   },
   "file_extension": ".py",
   "mimetype": "text/x-python",
   "name": "python",
   "nbconvert_exporter": "python",
   "pygments_lexer": "ipython3",
   "version": "3.9.12"
  }
 },
 "nbformat": 4,
 "nbformat_minor": 5
}
