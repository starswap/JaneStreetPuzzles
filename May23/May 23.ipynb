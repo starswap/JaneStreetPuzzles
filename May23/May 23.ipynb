{
 "cells": [
  {
   "cell_type": "code",
   "execution_count": 57,
   "id": "a65fc004",
   "metadata": {},
   "outputs": [],
   "source": [
    "WORDS = [ \n",
    "[ [\"POLO\", \"ENGLAND\", \"SKYSCRAPER\", \"DRESS\", \"TUXEDO\"],\n",
    "  [\"AGENT\", \"COMPOUND\", \"DECK\", \"SHOE\", \"SHORTS\"],\n",
    "  [\"BOOT\", \"PLANE\", \"SCHOOL\", \"CAP\", \"TEXAS\"],\n",
    "  [\"BOMB\", \"DASH\", \"TELESCOPE\", \"TIN\", \"GLOVE\"],\n",
    "  [\"KISS\", \"GOVERNOR\", \"SHERLOCK\", \"SUIT\", \"SUN\"] ],\n",
    "[ [\"SPACE\", \"MILL\", \"CIRCLE\", \"DUCK\", \"POWDER\"],\n",
    "  [\"FEVER\", \"SCORPION\", \"OCTOPUS\", \"SILK\", \"WAR\"],\n",
    "  [\"HOTEL\", \"FOAM\", \"CUCKOO\", \"SHEET\", \"PENGUIN\"],\n",
    "  [\"RABBIT\", \"MUD\", \"GLASSES\", \"SHARK\", \"DOG\"],\n",
    "  [\"TURTLE\", \"CLOAK\", \"REINDEER\", \"ICE\", \"EAGLE\"] ],\n",
    "[ [\"BANK\", \"SOUP\", \"CHEESE\", \"WELL\", \"POTATO\"],\n",
    "  [\"MAGAZINE\", \"PIE\", \"SALAD\", \"CARROT\", \"PIZZA\"],\n",
    "  [\"ARMY\", \"PADDLE\", \"HAMBURGER\", \"HIMALAYAS\", \"COUNTRY\"],\n",
    "  [\"CYCLE\", \"BRIDE\", \"BISCUIT\", \"PACIFIC\", \"LAB\"],\n",
    "  [\"ASH\", \"KID\", \"QUEEN\", \"NOVEL\", \"JET\"] ]\n",
    "]"
   ]
  },
  {
   "cell_type": "code",
   "execution_count": 62,
   "id": "69dce0b4",
   "metadata": {},
   "outputs": [],
   "source": [
    "def from_binary(array):\n",
    "    \"\"\"Convert an array of booleans with MSB on the LHS to a base 10 integer, interpreting as binary\"\"\"\n",
    "    acc = 1\n",
    "    total = 0\n",
    "    for item in array[::-1]:\n",
    "        if item:\n",
    "            total += acc\n",
    "        acc *= 2\n",
    "    return total\n",
    "\n",
    "def to_message(word_to_binary):\n",
    "    \"\"\"Extract a message from the letter boards using the Bacon cipher / ASCII binary encoding, where each word is allocated to a binary digit by the word_to_binary function. The function takes the word and the current set index as parameters.\"\"\"\n",
    "    message = \"\"\n",
    "    for set_idx, s in enumerate(words):\n",
    "        curr_score = 0\n",
    "        for row in s:\n",
    "            message += chr(from_binary([word_to_binary(word, set_idx) for word in row]) + 64)\n",
    "    return message[:-1]"
   ]
  },
  {
   "cell_type": "code",
   "execution_count": 63,
   "id": "c1e47fc5",
   "metadata": {},
   "outputs": [],
   "source": [
    "def scrabble_score(word):\n",
    "    \"\"\"Compute how many points a given upper case word gives you in scrabble\"\"\"\n",
    "    points = [(1, \"AEIOULNSTR\"),\n",
    "               (2, \"DG\"),\n",
    "               (3, \"BCMP\"),\n",
    "               (4, \"FHVWY\"),\n",
    "               (5, \"K\"),\n",
    "               (8, \"JX\"),\n",
    "               (10, \"QZ\")]\n",
    "    score = 0\n",
    "    for char in word:\n",
    "        for (pts, lets) in points:\n",
    "            if (char in lets):\n",
    "                score += pts\n",
    "                break;\n",
    "    return score"
   ]
  },
  {
   "cell_type": "code",
   "execution_count": 64,
   "id": "dffaa0a5",
   "metadata": {
    "scrolled": true
   },
   "outputs": [
    {
     "name": "stdout",
     "output_type": "stream",
     "text": [
      "SCRABBLESUMODD\n",
      "LONGERTHANFIVE\n",
      "MIDDLELETTEROF\n"
     ]
    }
   ],
   "source": [
    "# Have to encode this somehow manually\n",
    "\n",
    "MATCHES = [[\"POLO\", \"DRESS\", \"TUXEDO\", \"SHOE\", \"SHORTS\", \"BOOT\", \"CAP\", \"GLOVE\", \"SUIT\"],\n",
    "           [\"DUCK\", \"SCORPION\", \"OCTOPUS\", \"CUCKOO\", \"PENGUIN\", \"RABBIT\", \"SHARK\", \"DOG\", \"TURTLE\", \"REINDEER\", \"EAGLE\"],\n",
    "           [\"SOUP\", \"CHEESE\", \"POTATO\", \"PIE\", \"SALAD\", \"CARROT\", \"PIZZA\", \"HAMBURGER\", \"BISCUIT\"]]\n",
    "\n",
    "print(to_message(lambda w, i : w in MATCHES[i]))\n",
    "print(to_message(lambda w, _ : scrabble_score(w) % 2 == 1))\n",
    "print(to_message(lambda w, _ : len(w) > 5))"
   ]
  },
  {
   "cell_type": "code",
   "execution_count": 68,
   "id": "5a18c2ee",
   "metadata": {},
   "outputs": [
    {
     "name": "stdout",
     "output_type": "stream",
     "text": [
      "SIEVE\n"
     ]
    }
   ],
   "source": [
    "print(\"\".join(map(lambda word: '.' if len(word) % 2 == 0 else word[len(word)//2],  words[-1][-1])))"
   ]
  }
 ],
 "metadata": {
  "kernelspec": {
   "display_name": "Python 3 (ipykernel)",
   "language": "python",
   "name": "python3"
  },
  "language_info": {
   "codemirror_mode": {
    "name": "ipython",
    "version": 3
   },
   "file_extension": ".py",
   "mimetype": "text/x-python",
   "name": "python",
   "nbconvert_exporter": "python",
   "pygments_lexer": "ipython3",
   "version": "3.9.12"
  }
 },
 "nbformat": 4,
 "nbformat_minor": 5
}
